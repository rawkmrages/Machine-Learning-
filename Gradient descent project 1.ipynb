{
 "cells": [
  {
   "cell_type": "code",
   "execution_count": 6,
   "metadata": {},
   "outputs": [],
   "source": [
    "import numpy as np\n",
    "\n",
    "from sklearn.preprocessing import StandardScaler\n",
    "from sklearn import ensemble\n"
   ]
  },
  {
   "cell_type": "code",
   "execution_count": 7,
   "metadata": {},
   "outputs": [],
   "source": [
    "data_train = np.loadtxt(\"C:\\\\Users\\\\roktim\\Downloads\\\\ML\\\\gd_boston\\\\training_boston_x_y_train.csv\",delimiter=\",\")\n",
    "X_test = np.loadtxt(\"C:\\\\Users\\\\roktim\\Downloads\\\\ML\\\\gd_boston\\\\test_boston_x_test.csv\",delimiter=\",\")"
   ]
  },
  {
   "cell_type": "code",
   "execution_count": 16,
   "metadata": {},
   "outputs": [],
   "source": [
    "X_train = data_train[:,0:13]\n",
    "Y_train = data_train[:,13]"
   ]
  },
  {
   "cell_type": "code",
   "execution_count": 17,
   "metadata": {},
   "outputs": [
    {
     "data": {
      "text/plain": [
       "((379, 13), (127, 13))"
      ]
     },
     "execution_count": 17,
     "metadata": {},
     "output_type": "execute_result"
    }
   ],
   "source": [
    "X_train.shape,X_test.shape"
   ]
  },
  {
   "cell_type": "code",
   "execution_count": 18,
   "metadata": {},
   "outputs": [],
   "source": [
    "gbr = ensemble.GradientBoostingRegressor(n_estimators=1200,max_depth=5,min_samples_split=2,learning_rate=0.2,loss='ls')\n",
    "\n",
    "scaler = StandardScaler()\n",
    "scaler.fit(X_train)\n",
    "X_train = scaler.transform(X_train)\n",
    "X_test = scaler.transform(X_test)\n",
    "gbr.fit(X_train,Y_train)\n",
    "y_pred  = gbr.predict(X_test)\n",
    "np.savetxt('y_pred1.csv',y_pred, fmt='%1.5f')"
   ]
  },
  {
   "cell_type": "code",
   "execution_count": 11,
   "metadata": {},
   "outputs": [
    {
     "data": {
      "text/plain": [
       "array([17.68806115, 27.10278545, 14.90616059, 21.77168099, 21.53624386,\n",
       "       12.49826347, 28.15987596, 25.7309996 , 18.5118498 , 21.39061348,\n",
       "       23.56242017, 17.74445194, 19.41898023, 19.92608247, 49.29142999,\n",
       "       20.71735445, 24.54866425, 22.20797822, 18.27373858, 31.08304975,\n",
       "       20.62517879, 20.79530756, 34.22500297, 30.40185366, 32.08003881,\n",
       "       16.18803281, 21.12468635, 29.55658864, 22.69423624, 28.18858681,\n",
       "       18.12080579, 25.07750522, 19.94368085, 23.42183474, 10.10785967,\n",
       "       23.8388529 , 23.28757874, 20.56856951, 22.48525903,  8.71283945,\n",
       "       15.9516367 , 23.30238899, 24.28136438, 19.50074458, 21.89171264,\n",
       "        8.80193514, 43.43593253, 23.95336213, 34.78027383, 13.47675047,\n",
       "       11.04312638, 48.73856845, 11.69328931, 19.25288654, 15.35382648,\n",
       "       20.02483488, 18.76390775, 21.7260978 , 13.75976824, 16.22954456,\n",
       "       14.50555569, 27.02928897, 22.00670035, 24.07786502, 13.86237411,\n",
       "       14.75011396, 32.41299787, 12.32287438, 21.97298194, 21.3712211 ,\n",
       "       26.18955328, 22.00919431, 16.50849432,  6.0992894 , 42.3377068 ,\n",
       "       22.10644423, 25.88163396, 24.91247822, 12.49241064, 33.01854175,\n",
       "       21.85490808, 20.48683515, 20.28446527, 17.89601342, 16.03125408,\n",
       "       34.46426081, 27.66833199,  9.77159321, 22.61971299, 16.31021694,\n",
       "       21.07746747, 19.8041489 , 19.31813939,  9.84393492, 19.9755118 ,\n",
       "       24.24459384, 49.35989134, 18.44955725, 34.7039664 , 23.046149  ,\n",
       "       22.68967962, 21.6600849 , 22.05523978, 28.35755119, 13.68497051,\n",
       "       24.0715765 , 20.74857801, 47.12167115, 24.19631052, 14.30572536,\n",
       "       21.88085173, 13.82998979, 18.32983185, 19.04191492, 40.26606932,\n",
       "       17.43995808, 23.15498078, 24.8494634 , 20.21105856, 18.28836751,\n",
       "       11.63023638, 33.543451  , 20.56517158, 22.02916714, 21.49248267,\n",
       "       20.69115181, 15.77939888])"
      ]
     },
     "execution_count": 11,
     "metadata": {},
     "output_type": "execute_result"
    }
   ],
   "source": [
    "y_pred"
   ]
  },
  {
   "cell_type": "code",
   "execution_count": 7,
   "metadata": {},
   "outputs": [
    {
     "data": {
      "text/plain": [
       "((379, 13), (379, 14))"
      ]
     },
     "execution_count": 7,
     "metadata": {},
     "output_type": "execute_result"
    }
   ],
   "source": [
    "X_train.shape,X_test.shape"
   ]
  },
  {
   "cell_type": "code",
   "execution_count": null,
   "metadata": {},
   "outputs": [],
   "source": []
  }
 ],
 "metadata": {
  "kernelspec": {
   "display_name": "Python 3 (ipykernel)",
   "language": "python",
   "name": "python3"
  },
  "language_info": {
   "codemirror_mode": {
    "name": "ipython",
    "version": 3
   },
   "file_extension": ".py",
   "mimetype": "text/x-python",
   "name": "python",
   "nbconvert_exporter": "python",
   "pygments_lexer": "ipython3",
   "version": "3.9.7"
  }
 },
 "nbformat": 4,
 "nbformat_minor": 2
}
