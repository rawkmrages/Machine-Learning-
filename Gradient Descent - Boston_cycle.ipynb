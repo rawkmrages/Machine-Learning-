{
 "cells": [
  {
   "cell_type": "code",
   "execution_count": 22,
   "id": "29aa031c",
   "metadata": {},
   "outputs": [],
   "source": [
    "import numpy as np\n",
    "from sklearn import preprocessing\n",
    "from sklearn import model_selection\n",
    "from sklearn.preprocessing import StandardScaler\n",
    "from sklearn import ensemble\n"
   ]
  },
  {
   "cell_type": "code",
   "execution_count": 23,
   "id": "693a24d3",
   "metadata": {},
   "outputs": [],
   "source": [
    "data_train = np.loadtxt(\"C:\\\\Users\\\\roktim\\Downloads\\\\0000000000002419_training_ccpp_x_y_train.csv\",delimiter=\",\")\n",
    "X_test = np.loadtxt(\"C:\\\\Users\\\\roktim\\Downloads\\\\0000000000002419_test_ccpp_x_test.csv\",delimiter=\",\")"
   ]
  },
  {
   "cell_type": "code",
   "execution_count": 30,
   "id": "6fa2696b",
   "metadata": {},
   "outputs": [
    {
     "name": "stdout",
     "output_type": "stream",
     "text": [
      "(7176, 5)\n",
      "(2392, 4)\n"
     ]
    }
   ],
   "source": [
    "print(data_train.shape)\n",
    "print(X_test.shape)"
   ]
  },
  {
   "cell_type": "code",
   "execution_count": 40,
   "id": "7cc18f52",
   "metadata": {},
   "outputs": [],
   "source": [
    "X_train = data_train[:,0:4]\n",
    "Y_train = data_train[:,4]"
   ]
  },
  {
   "cell_type": "code",
   "execution_count": 41,
   "id": "68b59c3e",
   "metadata": {},
   "outputs": [],
   "source": [
    "gbr = ensemble.GradientBoostingRegressor(n_estimators=1200,max_depth=5,min_samples_split=2,learning_rate=0.2,loss='ls')\n",
    "\n",
    "scaler = StandardScaler()\n",
    "scaler.fit(X_train)\n",
    "X_train = scaler.transform(X_train)\n",
    "X_test = scaler.transform(X_test)\n",
    "gbr.fit(X_train,Y_train)\n",
    "y_pred  = gbr.predict(X_test)\n",
    "np.savetxt('y_pred1.csv',y_pred, fmt='%1.5f')"
   ]
  },
  {
   "cell_type": "code",
   "execution_count": 42,
   "id": "18a5a2bb",
   "metadata": {},
   "outputs": [
    {
     "data": {
      "text/plain": [
       "array([474.18452949, 470.75456415, 440.15242628, ..., 437.92904818,\n",
       "       450.99237221, 451.96954044])"
      ]
     },
     "execution_count": 42,
     "metadata": {},
     "output_type": "execute_result"
    }
   ],
   "source": [
    "y_pred"
   ]
  },
  {
   "cell_type": "markdown",
   "id": "2f18d0b8",
   "metadata": {},
   "source": [
    "def step_gradient(X, Y, m, learning_rate):\n",
    "    m_slope=np.zeros(len(X[0]))\n",
    "    for i in range(len(X)):\n",
    "        x=X[i]\n",
    "        y=Y[i]\n",
    "        for j in range(len(x)):\n",
    "            m_slope[j]+=(-2/len(X))*(y-sum(m*x))*x[j]\n",
    "    new_m=m-(learning_rate*m_slope)\n",
    "    return new_m\n",
    "\n",
    "def cost(m, x, y):\n",
    "    cost=0\n",
    "    for i in range(len(x)):\n",
    "        cost+=(1/len(x))*((y[i]-sum(m*x[i]))**2)\n",
    "    print(cost)\n",
    "\n",
    "def gd(x, y, learning_rate, iterations):\n",
    "    m=np.zeros(len(x[0]))\n",
    "    for i in range(iterations):\n",
    "        m=step_gradient(x, y, m, learning_rate)\n",
    "        print(\"itr= \", i, \"cost=\", end=' ')\n",
    "        cost(m, x, y)\n",
    "    return m\n",
    "\n",
    "def gradient_descent(x, y):\n",
    "    iterations=255\n",
    "    learning_rate=0.11\n",
    "    x=np.append(x, np.ones(len(x)).reshape(-1, 1), axis=1)\n",
    "    m=gd(x, y, learning_rate, iterations)\n",
    "    return m"
   ]
  },
  {
   "cell_type": "markdown",
   "id": "17b24427",
   "metadata": {},
   "source": [
    "x=training[:, :-1]\n",
    "y=training[:, -1]\n",
    "\n",
    "#adding squared values of each column\n",
    "\n",
    "sq=[]\n",
    "for i in range(len(x[0])):\n",
    "    for j in range(i, len(x[0])):\n",
    "        sq.append(x[:, i]*x[:, j])\n",
    "sq=np.array(sq)\n",
    "for i in sq:\n",
    "    x=np.append(x, i.reshape(-1, 1), axis=1)\n",
    "    \n",
    "#scaling\n",
    "\n",
    "scaler=preprocessing.StandardScaler()\n",
    "scaler.fit(x)\n",
    "x=scaler.transform(x)\n",
    "m=gradient_descent(x, y)"
   ]
  },
  {
   "cell_type": "markdown",
   "id": "4e32fc93",
   "metadata": {},
   "source": [
    "sq=[]\n",
    "for i in range(len(testing[0])):\n",
    "    for j in range(i, len(testing[0])):\n",
    "            sq.append(testing[:, i]*testing[:, j])\n",
    "sq=np.array(sq)\n",
    "for i in sq:\n",
    "    testing=np.append(testing, i.reshape(-1, 1), axis=1)\n",
    "\n",
    "testing1=scaler.transform(testing)\n",
    "x_test=np.append(testing1, np.ones(len(testing1)).reshape(-1, 1), axis=1)\n",
    "ans=[]\n",
    "for i in x_test:\n",
    "    ans.append(sum(i*m))\n",
    "for i in ans:\n",
    "    print(i)\n",
    "ans=np.array(ans)\n",
    "np.savetxt(X=ans,fname='data_power_plant.csv' , delimiter=',', fmt='%.5f')"
   ]
  },
  {
   "cell_type": "code",
   "execution_count": null,
   "id": "37f65b4c",
   "metadata": {},
   "outputs": [],
   "source": []
  }
 ],
 "metadata": {
  "kernelspec": {
   "display_name": "Python 3 (ipykernel)",
   "language": "python",
   "name": "python3"
  },
  "language_info": {
   "codemirror_mode": {
    "name": "ipython",
    "version": 3
   },
   "file_extension": ".py",
   "mimetype": "text/x-python",
   "name": "python",
   "nbconvert_exporter": "python",
   "pygments_lexer": "ipython3",
   "version": "3.9.7"
  }
 },
 "nbformat": 4,
 "nbformat_minor": 5
}
